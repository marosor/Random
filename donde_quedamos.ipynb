{
  "nbformat": 4,
  "nbformat_minor": 0,
  "metadata": {
    "colab": {
      "provenance": []
    },
    "kernelspec": {
      "name": "python3",
      "display_name": "Python 3"
    },
    "language_info": {
      "name": "python"
    }
  },
  "cells": [
    {
      "cell_type": "code",
      "execution_count": 2,
      "metadata": {
        "colab": {
          "base_uri": "https://localhost:8080/"
        },
        "id": "kwxEeqSFKqLt",
        "outputId": "bd8ef17d-be95-482e-b526-477b2991e7ce"
      },
      "outputs": [
        {
          "output_type": "stream",
          "name": "stdout",
          "text": [
            "El punto medio es: (38.824988891490186, -3.2350907751596645)\n"
          ]
        }
      ],
      "source": [
        "import math\n",
        "import folium\n",
        "\n",
        "def degrees_to_radians(degrees):\n",
        "    return degrees * math.pi / 180\n",
        "\n",
        "def radians_to_degrees(radians):\n",
        "    return radians * 180 / math.pi\n",
        "\n",
        "def find_midpoint(coordinates):\n",
        "    x = 0\n",
        "    y = 0\n",
        "    z = 0\n",
        "\n",
        "    for lat, lon in coordinates:\n",
        "        lat = degrees_to_radians(lat)\n",
        "        lon = degrees_to_radians(lon)\n",
        "\n",
        "        x += math.cos(lat) * math.cos(lon)\n",
        "        y += math.cos(lat) * math.sin(lon)\n",
        "        z += math.sin(lat)\n",
        "\n",
        "    total = len(coordinates)\n",
        "\n",
        "    x /= total\n",
        "    y /= total\n",
        "    z /= total\n",
        "\n",
        "    lon = math.atan2(y, x)\n",
        "    hyp = math.sqrt(x * x + y * y)\n",
        "    lat = math.atan2(z, hyp)\n",
        "\n",
        "    return (radians_to_degrees(lat), radians_to_degrees(lon))\n",
        "\n",
        "coordinates = [\n",
        "    (37.402012, -6.033157), # Brenda, Camas\n",
        "    (37.283689, -5.922672), # Pepe, Dos hermanas\n",
        "    (38.384214, -0.767415), # Fran, Alicante\n",
        "    (41.35986, 2.099793), # Marce, Hospitalet\n",
        "    (37.884581, -4.776014), # Fran, Córdoba\n",
        "    (40.416705, -3.703582) # Emma, Madrid\n",
        "]\n",
        "\n",
        "midpoint = find_midpoint(coordinates)\n",
        "print(\"El punto medio es:\", midpoint)\n",
        "\n",
        "# Crear un mapa con folium\n",
        "map_center = midpoint\n",
        "map = folium.Map(location=map_center, zoom_start=5)\n",
        "\n",
        "# Añadir marcadores para cada ubicación\n",
        "for lat, lon in coordinates:\n",
        "    folium.Marker(location=[lat, lon]).add_to(map)\n",
        "\n",
        "# Añadir marcador para el punto medio\n",
        "folium.Marker(location=map_center, popup=\"Punto Medio\", icon=folium.Icon(color='red')).add_to(map)\n",
        "\n",
        "# Guardar el mapa en un archivo HTML\n",
        "map.save(\"mapa_punto_medio.html\")\n"
      ]
    }
  ]
}